{
 "cells": [
  {
   "cell_type": "code",
   "execution_count": null,
   "metadata": {},
   "outputs": [],
   "source": [
    "import numpy as np\n",
    "import matplotlib.pyplot as plt\n",
    "import pandas as pd"
   ]
  },
  {
   "cell_type": "markdown",
   "metadata": {},
   "source": [
    "# 2x2x2 inputs\n",
    "- 2 series: time series and brownian increment series\n",
    "- 2 law of motion: X as a brownian motion and Y as a function of brownian motion\n",
    "- 2 initial value: $X_{0}$ and $Y_{0}$"
   ]
  },
  {
   "cell_type": "markdown",
   "metadata": {},
   "source": [
    "# Class relation\n",
    "## SDE abstract class as sde\n",
    "## Specific SDE class \n",
    "### example\n",
    "- stock price like GeometricBrownianMotion1D\n",
    "## BSDE class \n",
    "### example \n",
    "- option price"
   ]
  },
  {
   "cell_type": "code",
   "execution_count": null,
   "metadata": {},
   "outputs": [],
   "source": []
  }
 ],
 "metadata": {
  "language_info": {
   "name": "python"
  }
 },
 "nbformat": 4,
 "nbformat_minor": 2
}
