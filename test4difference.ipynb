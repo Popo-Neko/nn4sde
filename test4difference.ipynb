{
 "cells": [
  {
   "cell_type": "code",
   "execution_count": 5,
   "metadata": {},
   "outputs": [],
   "source": [
    "import sympy as sp\n",
    "from tqdm import tqdm"
   ]
  },
  {
   "cell_type": "code",
   "execution_count": 7,
   "metadata": {},
   "outputs": [
    {
     "name": "stderr",
     "output_type": "stream",
     "text": [
      "\n",
      "  0%|          | 0/5 [00:00<?, ?it/s]"
     ]
    },
    {
     "name": "stderr",
     "output_type": "stream",
     "text": [
      "100%|██████████| 5/5 [00:00<00:00, 16.85it/s]\n"
     ]
    }
   ],
   "source": [
    "# 定义不定数量的符号变量 S_1, S_2, ..., S_n\n",
    "n = 5\n",
    "S = sp.symbols(f'S1:{n+1}')  # 这里使用 f-string 创建从 S1 到 Sn 的符号变量\n",
    "Q = sp.symbols(f'Q1:{n+1}')\n",
    "MV = sum(S[i]*Q[i] for i in range(n))\n",
    "V = sum(S[i]*Q[i]/MV*S[i] for i in range(n))\n",
    "# 一阶偏导数\n",
    "dVdS = [sp.diff(V, S[i]) for i in range(n)]\n",
    "# 二阶偏导数\n",
    "d2VdS2 = [[sp.diff(dVdS[i], S[j]) for j in range(n)] for i in tqdm(range(n))]"
   ]
  },
  {
   "cell_type": "code",
   "execution_count": 10,
   "metadata": {},
   "outputs": [
    {
     "data": {
      "text/plain": [
       "[[2*Q1**3*S1**2/(Q1*S1 + Q2*S2 + Q3*S3 + Q4*S4 + Q5*S5)**3 + 2*Q1**2*Q2*S2**2/(Q1*S1 + Q2*S2 + Q3*S3 + Q4*S4 + Q5*S5)**3 + 2*Q1**2*Q3*S3**2/(Q1*S1 + Q2*S2 + Q3*S3 + Q4*S4 + Q5*S5)**3 + 2*Q1**2*Q4*S4**2/(Q1*S1 + Q2*S2 + Q3*S3 + Q4*S4 + Q5*S5)**3 + 2*Q1**2*Q5*S5**2/(Q1*S1 + Q2*S2 + Q3*S3 + Q4*S4 + Q5*S5)**3 - 4*Q1**2*S1/(Q1*S1 + Q2*S2 + Q3*S3 + Q4*S4 + Q5*S5)**2 + 2*Q1/(Q1*S1 + Q2*S2 + Q3*S3 + Q4*S4 + Q5*S5),\n",
       "  2*Q1**2*Q2*S1**2/(Q1*S1 + Q2*S2 + Q3*S3 + Q4*S4 + Q5*S5)**3 + 2*Q1*Q2**2*S2**2/(Q1*S1 + Q2*S2 + Q3*S3 + Q4*S4 + Q5*S5)**3 + 2*Q1*Q2*Q3*S3**2/(Q1*S1 + Q2*S2 + Q3*S3 + Q4*S4 + Q5*S5)**3 + 2*Q1*Q2*Q4*S4**2/(Q1*S1 + Q2*S2 + Q3*S3 + Q4*S4 + Q5*S5)**3 + 2*Q1*Q2*Q5*S5**2/(Q1*S1 + Q2*S2 + Q3*S3 + Q4*S4 + Q5*S5)**3 - 2*Q1*Q2*S1/(Q1*S1 + Q2*S2 + Q3*S3 + Q4*S4 + Q5*S5)**2 - 2*Q1*Q2*S2/(Q1*S1 + Q2*S2 + Q3*S3 + Q4*S4 + Q5*S5)**2,\n",
       "  2*Q1**2*Q3*S1**2/(Q1*S1 + Q2*S2 + Q3*S3 + Q4*S4 + Q5*S5)**3 + 2*Q1*Q2*Q3*S2**2/(Q1*S1 + Q2*S2 + Q3*S3 + Q4*S4 + Q5*S5)**3 + 2*Q1*Q3**2*S3**2/(Q1*S1 + Q2*S2 + Q3*S3 + Q4*S4 + Q5*S5)**3 + 2*Q1*Q3*Q4*S4**2/(Q1*S1 + Q2*S2 + Q3*S3 + Q4*S4 + Q5*S5)**3 + 2*Q1*Q3*Q5*S5**2/(Q1*S1 + Q2*S2 + Q3*S3 + Q4*S4 + Q5*S5)**3 - 2*Q1*Q3*S1/(Q1*S1 + Q2*S2 + Q3*S3 + Q4*S4 + Q5*S5)**2 - 2*Q1*Q3*S3/(Q1*S1 + Q2*S2 + Q3*S3 + Q4*S4 + Q5*S5)**2,\n",
       "  2*Q1**2*Q4*S1**2/(Q1*S1 + Q2*S2 + Q3*S3 + Q4*S4 + Q5*S5)**3 + 2*Q1*Q2*Q4*S2**2/(Q1*S1 + Q2*S2 + Q3*S3 + Q4*S4 + Q5*S5)**3 + 2*Q1*Q3*Q4*S3**2/(Q1*S1 + Q2*S2 + Q3*S3 + Q4*S4 + Q5*S5)**3 + 2*Q1*Q4**2*S4**2/(Q1*S1 + Q2*S2 + Q3*S3 + Q4*S4 + Q5*S5)**3 + 2*Q1*Q4*Q5*S5**2/(Q1*S1 + Q2*S2 + Q3*S3 + Q4*S4 + Q5*S5)**3 - 2*Q1*Q4*S1/(Q1*S1 + Q2*S2 + Q3*S3 + Q4*S4 + Q5*S5)**2 - 2*Q1*Q4*S4/(Q1*S1 + Q2*S2 + Q3*S3 + Q4*S4 + Q5*S5)**2,\n",
       "  2*Q1**2*Q5*S1**2/(Q1*S1 + Q2*S2 + Q3*S3 + Q4*S4 + Q5*S5)**3 + 2*Q1*Q2*Q5*S2**2/(Q1*S1 + Q2*S2 + Q3*S3 + Q4*S4 + Q5*S5)**3 + 2*Q1*Q3*Q5*S3**2/(Q1*S1 + Q2*S2 + Q3*S3 + Q4*S4 + Q5*S5)**3 + 2*Q1*Q4*Q5*S4**2/(Q1*S1 + Q2*S2 + Q3*S3 + Q4*S4 + Q5*S5)**3 + 2*Q1*Q5**2*S5**2/(Q1*S1 + Q2*S2 + Q3*S3 + Q4*S4 + Q5*S5)**3 - 2*Q1*Q5*S1/(Q1*S1 + Q2*S2 + Q3*S3 + Q4*S4 + Q5*S5)**2 - 2*Q1*Q5*S5/(Q1*S1 + Q2*S2 + Q3*S3 + Q4*S4 + Q5*S5)**2],\n",
       " [2*Q1**2*Q2*S1**2/(Q1*S1 + Q2*S2 + Q3*S3 + Q4*S4 + Q5*S5)**3 + 2*Q1*Q2**2*S2**2/(Q1*S1 + Q2*S2 + Q3*S3 + Q4*S4 + Q5*S5)**3 + 2*Q1*Q2*Q3*S3**2/(Q1*S1 + Q2*S2 + Q3*S3 + Q4*S4 + Q5*S5)**3 + 2*Q1*Q2*Q4*S4**2/(Q1*S1 + Q2*S2 + Q3*S3 + Q4*S4 + Q5*S5)**3 + 2*Q1*Q2*Q5*S5**2/(Q1*S1 + Q2*S2 + Q3*S3 + Q4*S4 + Q5*S5)**3 - 2*Q1*Q2*S1/(Q1*S1 + Q2*S2 + Q3*S3 + Q4*S4 + Q5*S5)**2 - 2*Q1*Q2*S2/(Q1*S1 + Q2*S2 + Q3*S3 + Q4*S4 + Q5*S5)**2,\n",
       "  2*Q1*Q2**2*S1**2/(Q1*S1 + Q2*S2 + Q3*S3 + Q4*S4 + Q5*S5)**3 + 2*Q2**3*S2**2/(Q1*S1 + Q2*S2 + Q3*S3 + Q4*S4 + Q5*S5)**3 + 2*Q2**2*Q3*S3**2/(Q1*S1 + Q2*S2 + Q3*S3 + Q4*S4 + Q5*S5)**3 + 2*Q2**2*Q4*S4**2/(Q1*S1 + Q2*S2 + Q3*S3 + Q4*S4 + Q5*S5)**3 + 2*Q2**2*Q5*S5**2/(Q1*S1 + Q2*S2 + Q3*S3 + Q4*S4 + Q5*S5)**3 - 4*Q2**2*S2/(Q1*S1 + Q2*S2 + Q3*S3 + Q4*S4 + Q5*S5)**2 + 2*Q2/(Q1*S1 + Q2*S2 + Q3*S3 + Q4*S4 + Q5*S5),\n",
       "  2*Q1*Q2*Q3*S1**2/(Q1*S1 + Q2*S2 + Q3*S3 + Q4*S4 + Q5*S5)**3 + 2*Q2**2*Q3*S2**2/(Q1*S1 + Q2*S2 + Q3*S3 + Q4*S4 + Q5*S5)**3 + 2*Q2*Q3**2*S3**2/(Q1*S1 + Q2*S2 + Q3*S3 + Q4*S4 + Q5*S5)**3 + 2*Q2*Q3*Q4*S4**2/(Q1*S1 + Q2*S2 + Q3*S3 + Q4*S4 + Q5*S5)**3 + 2*Q2*Q3*Q5*S5**2/(Q1*S1 + Q2*S2 + Q3*S3 + Q4*S4 + Q5*S5)**3 - 2*Q2*Q3*S2/(Q1*S1 + Q2*S2 + Q3*S3 + Q4*S4 + Q5*S5)**2 - 2*Q2*Q3*S3/(Q1*S1 + Q2*S2 + Q3*S3 + Q4*S4 + Q5*S5)**2,\n",
       "  2*Q1*Q2*Q4*S1**2/(Q1*S1 + Q2*S2 + Q3*S3 + Q4*S4 + Q5*S5)**3 + 2*Q2**2*Q4*S2**2/(Q1*S1 + Q2*S2 + Q3*S3 + Q4*S4 + Q5*S5)**3 + 2*Q2*Q3*Q4*S3**2/(Q1*S1 + Q2*S2 + Q3*S3 + Q4*S4 + Q5*S5)**3 + 2*Q2*Q4**2*S4**2/(Q1*S1 + Q2*S2 + Q3*S3 + Q4*S4 + Q5*S5)**3 + 2*Q2*Q4*Q5*S5**2/(Q1*S1 + Q2*S2 + Q3*S3 + Q4*S4 + Q5*S5)**3 - 2*Q2*Q4*S2/(Q1*S1 + Q2*S2 + Q3*S3 + Q4*S4 + Q5*S5)**2 - 2*Q2*Q4*S4/(Q1*S1 + Q2*S2 + Q3*S3 + Q4*S4 + Q5*S5)**2,\n",
       "  2*Q1*Q2*Q5*S1**2/(Q1*S1 + Q2*S2 + Q3*S3 + Q4*S4 + Q5*S5)**3 + 2*Q2**2*Q5*S2**2/(Q1*S1 + Q2*S2 + Q3*S3 + Q4*S4 + Q5*S5)**3 + 2*Q2*Q3*Q5*S3**2/(Q1*S1 + Q2*S2 + Q3*S3 + Q4*S4 + Q5*S5)**3 + 2*Q2*Q4*Q5*S4**2/(Q1*S1 + Q2*S2 + Q3*S3 + Q4*S4 + Q5*S5)**3 + 2*Q2*Q5**2*S5**2/(Q1*S1 + Q2*S2 + Q3*S3 + Q4*S4 + Q5*S5)**3 - 2*Q2*Q5*S2/(Q1*S1 + Q2*S2 + Q3*S3 + Q4*S4 + Q5*S5)**2 - 2*Q2*Q5*S5/(Q1*S1 + Q2*S2 + Q3*S3 + Q4*S4 + Q5*S5)**2],\n",
       " [2*Q1**2*Q3*S1**2/(Q1*S1 + Q2*S2 + Q3*S3 + Q4*S4 + Q5*S5)**3 + 2*Q1*Q2*Q3*S2**2/(Q1*S1 + Q2*S2 + Q3*S3 + Q4*S4 + Q5*S5)**3 + 2*Q1*Q3**2*S3**2/(Q1*S1 + Q2*S2 + Q3*S3 + Q4*S4 + Q5*S5)**3 + 2*Q1*Q3*Q4*S4**2/(Q1*S1 + Q2*S2 + Q3*S3 + Q4*S4 + Q5*S5)**3 + 2*Q1*Q3*Q5*S5**2/(Q1*S1 + Q2*S2 + Q3*S3 + Q4*S4 + Q5*S5)**3 - 2*Q1*Q3*S1/(Q1*S1 + Q2*S2 + Q3*S3 + Q4*S4 + Q5*S5)**2 - 2*Q1*Q3*S3/(Q1*S1 + Q2*S2 + Q3*S3 + Q4*S4 + Q5*S5)**2,\n",
       "  2*Q1*Q2*Q3*S1**2/(Q1*S1 + Q2*S2 + Q3*S3 + Q4*S4 + Q5*S5)**3 + 2*Q2**2*Q3*S2**2/(Q1*S1 + Q2*S2 + Q3*S3 + Q4*S4 + Q5*S5)**3 + 2*Q2*Q3**2*S3**2/(Q1*S1 + Q2*S2 + Q3*S3 + Q4*S4 + Q5*S5)**3 + 2*Q2*Q3*Q4*S4**2/(Q1*S1 + Q2*S2 + Q3*S3 + Q4*S4 + Q5*S5)**3 + 2*Q2*Q3*Q5*S5**2/(Q1*S1 + Q2*S2 + Q3*S3 + Q4*S4 + Q5*S5)**3 - 2*Q2*Q3*S2/(Q1*S1 + Q2*S2 + Q3*S3 + Q4*S4 + Q5*S5)**2 - 2*Q2*Q3*S3/(Q1*S1 + Q2*S2 + Q3*S3 + Q4*S4 + Q5*S5)**2,\n",
       "  2*Q1*Q3**2*S1**2/(Q1*S1 + Q2*S2 + Q3*S3 + Q4*S4 + Q5*S5)**3 + 2*Q2*Q3**2*S2**2/(Q1*S1 + Q2*S2 + Q3*S3 + Q4*S4 + Q5*S5)**3 + 2*Q3**3*S3**2/(Q1*S1 + Q2*S2 + Q3*S3 + Q4*S4 + Q5*S5)**3 + 2*Q3**2*Q4*S4**2/(Q1*S1 + Q2*S2 + Q3*S3 + Q4*S4 + Q5*S5)**3 + 2*Q3**2*Q5*S5**2/(Q1*S1 + Q2*S2 + Q3*S3 + Q4*S4 + Q5*S5)**3 - 4*Q3**2*S3/(Q1*S1 + Q2*S2 + Q3*S3 + Q4*S4 + Q5*S5)**2 + 2*Q3/(Q1*S1 + Q2*S2 + Q3*S3 + Q4*S4 + Q5*S5),\n",
       "  2*Q1*Q3*Q4*S1**2/(Q1*S1 + Q2*S2 + Q3*S3 + Q4*S4 + Q5*S5)**3 + 2*Q2*Q3*Q4*S2**2/(Q1*S1 + Q2*S2 + Q3*S3 + Q4*S4 + Q5*S5)**3 + 2*Q3**2*Q4*S3**2/(Q1*S1 + Q2*S2 + Q3*S3 + Q4*S4 + Q5*S5)**3 + 2*Q3*Q4**2*S4**2/(Q1*S1 + Q2*S2 + Q3*S3 + Q4*S4 + Q5*S5)**3 + 2*Q3*Q4*Q5*S5**2/(Q1*S1 + Q2*S2 + Q3*S3 + Q4*S4 + Q5*S5)**3 - 2*Q3*Q4*S3/(Q1*S1 + Q2*S2 + Q3*S3 + Q4*S4 + Q5*S5)**2 - 2*Q3*Q4*S4/(Q1*S1 + Q2*S2 + Q3*S3 + Q4*S4 + Q5*S5)**2,\n",
       "  2*Q1*Q3*Q5*S1**2/(Q1*S1 + Q2*S2 + Q3*S3 + Q4*S4 + Q5*S5)**3 + 2*Q2*Q3*Q5*S2**2/(Q1*S1 + Q2*S2 + Q3*S3 + Q4*S4 + Q5*S5)**3 + 2*Q3**2*Q5*S3**2/(Q1*S1 + Q2*S2 + Q3*S3 + Q4*S4 + Q5*S5)**3 + 2*Q3*Q4*Q5*S4**2/(Q1*S1 + Q2*S2 + Q3*S3 + Q4*S4 + Q5*S5)**3 + 2*Q3*Q5**2*S5**2/(Q1*S1 + Q2*S2 + Q3*S3 + Q4*S4 + Q5*S5)**3 - 2*Q3*Q5*S3/(Q1*S1 + Q2*S2 + Q3*S3 + Q4*S4 + Q5*S5)**2 - 2*Q3*Q5*S5/(Q1*S1 + Q2*S2 + Q3*S3 + Q4*S4 + Q5*S5)**2],\n",
       " [2*Q1**2*Q4*S1**2/(Q1*S1 + Q2*S2 + Q3*S3 + Q4*S4 + Q5*S5)**3 + 2*Q1*Q2*Q4*S2**2/(Q1*S1 + Q2*S2 + Q3*S3 + Q4*S4 + Q5*S5)**3 + 2*Q1*Q3*Q4*S3**2/(Q1*S1 + Q2*S2 + Q3*S3 + Q4*S4 + Q5*S5)**3 + 2*Q1*Q4**2*S4**2/(Q1*S1 + Q2*S2 + Q3*S3 + Q4*S4 + Q5*S5)**3 + 2*Q1*Q4*Q5*S5**2/(Q1*S1 + Q2*S2 + Q3*S3 + Q4*S4 + Q5*S5)**3 - 2*Q1*Q4*S1/(Q1*S1 + Q2*S2 + Q3*S3 + Q4*S4 + Q5*S5)**2 - 2*Q1*Q4*S4/(Q1*S1 + Q2*S2 + Q3*S3 + Q4*S4 + Q5*S5)**2,\n",
       "  2*Q1*Q2*Q4*S1**2/(Q1*S1 + Q2*S2 + Q3*S3 + Q4*S4 + Q5*S5)**3 + 2*Q2**2*Q4*S2**2/(Q1*S1 + Q2*S2 + Q3*S3 + Q4*S4 + Q5*S5)**3 + 2*Q2*Q3*Q4*S3**2/(Q1*S1 + Q2*S2 + Q3*S3 + Q4*S4 + Q5*S5)**3 + 2*Q2*Q4**2*S4**2/(Q1*S1 + Q2*S2 + Q3*S3 + Q4*S4 + Q5*S5)**3 + 2*Q2*Q4*Q5*S5**2/(Q1*S1 + Q2*S2 + Q3*S3 + Q4*S4 + Q5*S5)**3 - 2*Q2*Q4*S2/(Q1*S1 + Q2*S2 + Q3*S3 + Q4*S4 + Q5*S5)**2 - 2*Q2*Q4*S4/(Q1*S1 + Q2*S2 + Q3*S3 + Q4*S4 + Q5*S5)**2,\n",
       "  2*Q1*Q3*Q4*S1**2/(Q1*S1 + Q2*S2 + Q3*S3 + Q4*S4 + Q5*S5)**3 + 2*Q2*Q3*Q4*S2**2/(Q1*S1 + Q2*S2 + Q3*S3 + Q4*S4 + Q5*S5)**3 + 2*Q3**2*Q4*S3**2/(Q1*S1 + Q2*S2 + Q3*S3 + Q4*S4 + Q5*S5)**3 + 2*Q3*Q4**2*S4**2/(Q1*S1 + Q2*S2 + Q3*S3 + Q4*S4 + Q5*S5)**3 + 2*Q3*Q4*Q5*S5**2/(Q1*S1 + Q2*S2 + Q3*S3 + Q4*S4 + Q5*S5)**3 - 2*Q3*Q4*S3/(Q1*S1 + Q2*S2 + Q3*S3 + Q4*S4 + Q5*S5)**2 - 2*Q3*Q4*S4/(Q1*S1 + Q2*S2 + Q3*S3 + Q4*S4 + Q5*S5)**2,\n",
       "  2*Q1*Q4**2*S1**2/(Q1*S1 + Q2*S2 + Q3*S3 + Q4*S4 + Q5*S5)**3 + 2*Q2*Q4**2*S2**2/(Q1*S1 + Q2*S2 + Q3*S3 + Q4*S4 + Q5*S5)**3 + 2*Q3*Q4**2*S3**2/(Q1*S1 + Q2*S2 + Q3*S3 + Q4*S4 + Q5*S5)**3 + 2*Q4**3*S4**2/(Q1*S1 + Q2*S2 + Q3*S3 + Q4*S4 + Q5*S5)**3 + 2*Q4**2*Q5*S5**2/(Q1*S1 + Q2*S2 + Q3*S3 + Q4*S4 + Q5*S5)**3 - 4*Q4**2*S4/(Q1*S1 + Q2*S2 + Q3*S3 + Q4*S4 + Q5*S5)**2 + 2*Q4/(Q1*S1 + Q2*S2 + Q3*S3 + Q4*S4 + Q5*S5),\n",
       "  2*Q1*Q4*Q5*S1**2/(Q1*S1 + Q2*S2 + Q3*S3 + Q4*S4 + Q5*S5)**3 + 2*Q2*Q4*Q5*S2**2/(Q1*S1 + Q2*S2 + Q3*S3 + Q4*S4 + Q5*S5)**3 + 2*Q3*Q4*Q5*S3**2/(Q1*S1 + Q2*S2 + Q3*S3 + Q4*S4 + Q5*S5)**3 + 2*Q4**2*Q5*S4**2/(Q1*S1 + Q2*S2 + Q3*S3 + Q4*S4 + Q5*S5)**3 + 2*Q4*Q5**2*S5**2/(Q1*S1 + Q2*S2 + Q3*S3 + Q4*S4 + Q5*S5)**3 - 2*Q4*Q5*S4/(Q1*S1 + Q2*S2 + Q3*S3 + Q4*S4 + Q5*S5)**2 - 2*Q4*Q5*S5/(Q1*S1 + Q2*S2 + Q3*S3 + Q4*S4 + Q5*S5)**2],\n",
       " [2*Q1**2*Q5*S1**2/(Q1*S1 + Q2*S2 + Q3*S3 + Q4*S4 + Q5*S5)**3 + 2*Q1*Q2*Q5*S2**2/(Q1*S1 + Q2*S2 + Q3*S3 + Q4*S4 + Q5*S5)**3 + 2*Q1*Q3*Q5*S3**2/(Q1*S1 + Q2*S2 + Q3*S3 + Q4*S4 + Q5*S5)**3 + 2*Q1*Q4*Q5*S4**2/(Q1*S1 + Q2*S2 + Q3*S3 + Q4*S4 + Q5*S5)**3 + 2*Q1*Q5**2*S5**2/(Q1*S1 + Q2*S2 + Q3*S3 + Q4*S4 + Q5*S5)**3 - 2*Q1*Q5*S1/(Q1*S1 + Q2*S2 + Q3*S3 + Q4*S4 + Q5*S5)**2 - 2*Q1*Q5*S5/(Q1*S1 + Q2*S2 + Q3*S3 + Q4*S4 + Q5*S5)**2,\n",
       "  2*Q1*Q2*Q5*S1**2/(Q1*S1 + Q2*S2 + Q3*S3 + Q4*S4 + Q5*S5)**3 + 2*Q2**2*Q5*S2**2/(Q1*S1 + Q2*S2 + Q3*S3 + Q4*S4 + Q5*S5)**3 + 2*Q2*Q3*Q5*S3**2/(Q1*S1 + Q2*S2 + Q3*S3 + Q4*S4 + Q5*S5)**3 + 2*Q2*Q4*Q5*S4**2/(Q1*S1 + Q2*S2 + Q3*S3 + Q4*S4 + Q5*S5)**3 + 2*Q2*Q5**2*S5**2/(Q1*S1 + Q2*S2 + Q3*S3 + Q4*S4 + Q5*S5)**3 - 2*Q2*Q5*S2/(Q1*S1 + Q2*S2 + Q3*S3 + Q4*S4 + Q5*S5)**2 - 2*Q2*Q5*S5/(Q1*S1 + Q2*S2 + Q3*S3 + Q4*S4 + Q5*S5)**2,\n",
       "  2*Q1*Q3*Q5*S1**2/(Q1*S1 + Q2*S2 + Q3*S3 + Q4*S4 + Q5*S5)**3 + 2*Q2*Q3*Q5*S2**2/(Q1*S1 + Q2*S2 + Q3*S3 + Q4*S4 + Q5*S5)**3 + 2*Q3**2*Q5*S3**2/(Q1*S1 + Q2*S2 + Q3*S3 + Q4*S4 + Q5*S5)**3 + 2*Q3*Q4*Q5*S4**2/(Q1*S1 + Q2*S2 + Q3*S3 + Q4*S4 + Q5*S5)**3 + 2*Q3*Q5**2*S5**2/(Q1*S1 + Q2*S2 + Q3*S3 + Q4*S4 + Q5*S5)**3 - 2*Q3*Q5*S3/(Q1*S1 + Q2*S2 + Q3*S3 + Q4*S4 + Q5*S5)**2 - 2*Q3*Q5*S5/(Q1*S1 + Q2*S2 + Q3*S3 + Q4*S4 + Q5*S5)**2,\n",
       "  2*Q1*Q4*Q5*S1**2/(Q1*S1 + Q2*S2 + Q3*S3 + Q4*S4 + Q5*S5)**3 + 2*Q2*Q4*Q5*S2**2/(Q1*S1 + Q2*S2 + Q3*S3 + Q4*S4 + Q5*S5)**3 + 2*Q3*Q4*Q5*S3**2/(Q1*S1 + Q2*S2 + Q3*S3 + Q4*S4 + Q5*S5)**3 + 2*Q4**2*Q5*S4**2/(Q1*S1 + Q2*S2 + Q3*S3 + Q4*S4 + Q5*S5)**3 + 2*Q4*Q5**2*S5**2/(Q1*S1 + Q2*S2 + Q3*S3 + Q4*S4 + Q5*S5)**3 - 2*Q4*Q5*S4/(Q1*S1 + Q2*S2 + Q3*S3 + Q4*S4 + Q5*S5)**2 - 2*Q4*Q5*S5/(Q1*S1 + Q2*S2 + Q3*S3 + Q4*S4 + Q5*S5)**2,\n",
       "  2*Q1*Q5**2*S1**2/(Q1*S1 + Q2*S2 + Q3*S3 + Q4*S4 + Q5*S5)**3 + 2*Q2*Q5**2*S2**2/(Q1*S1 + Q2*S2 + Q3*S3 + Q4*S4 + Q5*S5)**3 + 2*Q3*Q5**2*S3**2/(Q1*S1 + Q2*S2 + Q3*S3 + Q4*S4 + Q5*S5)**3 + 2*Q4*Q5**2*S4**2/(Q1*S1 + Q2*S2 + Q3*S3 + Q4*S4 + Q5*S5)**3 + 2*Q5**3*S5**2/(Q1*S1 + Q2*S2 + Q3*S3 + Q4*S4 + Q5*S5)**3 - 4*Q5**2*S5/(Q1*S1 + Q2*S2 + Q3*S3 + Q4*S4 + Q5*S5)**2 + 2*Q5/(Q1*S1 + Q2*S2 + Q3*S3 + Q4*S4 + Q5*S5)]]"
      ]
     },
     "execution_count": 10,
     "metadata": {},
     "output_type": "execute_result"
    }
   ],
   "source": [
    "d2VdS2"
   ]
  },
  {
   "cell_type": "code",
   "execution_count": null,
   "metadata": {},
   "outputs": [],
   "source": []
  }
 ],
 "metadata": {
  "kernelspec": {
   "display_name": "deep_learning",
   "language": "python",
   "name": "python3"
  },
  "language_info": {
   "codemirror_mode": {
    "name": "ipython",
    "version": 3
   },
   "file_extension": ".py",
   "mimetype": "text/x-python",
   "name": "python",
   "nbconvert_exporter": "python",
   "pygments_lexer": "ipython3",
   "version": "3.11.4"
  }
 },
 "nbformat": 4,
 "nbformat_minor": 2
}
